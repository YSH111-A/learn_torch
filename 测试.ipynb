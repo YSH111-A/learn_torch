{
 "cells": [
  {
   "cell_type": "code",
   "id": "initial_id",
   "metadata": {
    "collapsed": true,
    "ExecuteTime": {
     "end_time": "2024-12-27T11:16:09.696919Z",
     "start_time": "2024-12-27T11:16:09.688919Z"
    }
   },
   "source": [
    "import torch\n",
    "import cv2\n",
    "from PIL import Image\n",
    "from torch.utils.data import Dataset\n",
    "\n",
    "dir(torch)\n",
    "dir(torch.cuda.is_available())\n",
    "help(torch.cuda.is_available)"
   ],
   "outputs": [],
   "execution_count": 7
  },
  {
   "metadata": {
    "ExecuteTime": {
     "end_time": "2024-12-27T14:01:26.503260Z",
     "start_time": "2024-12-27T14:01:26.499257Z"
    }
   },
   "cell_type": "code",
   "source": "from torch.utils.data import Dataset",
   "id": "96b35c6cb3c73810",
   "outputs": [],
   "execution_count": 8
  },
  {
   "metadata": {
    "ExecuteTime": {
     "end_time": "2024-12-27T14:01:59.540425Z",
     "start_time": "2024-12-27T14:01:59.486307Z"
    }
   },
   "cell_type": "code",
   "source": "Dataset??",
   "id": "1791ed63da8ef871",
   "outputs": [],
   "execution_count": 10
  },
  {
   "metadata": {
    "ExecuteTime": {
     "end_time": "2024-12-27T14:38:44.349116Z",
     "start_time": "2024-12-27T14:38:44.333492Z"
    }
   },
   "cell_type": "code",
   "source": [
    "class MyData(Dataset):\n",
    "    def __init__(self):\n",
    "    def __getitem__(self, idx):\n",
    "        \n",
    "    "
   ],
   "id": "603efbfa073220d0",
   "outputs": [
    {
     "ename": "IndentationError",
     "evalue": "expected an indented block (1968607289.py, line 3)",
     "output_type": "error",
     "traceback": [
      "\u001B[1;36m  Cell \u001B[1;32mIn[1], line 3\u001B[1;36m\u001B[0m\n\u001B[1;33m    def __getitem__(self, idx):\u001B[0m\n\u001B[1;37m    ^\u001B[0m\n\u001B[1;31mIndentationError\u001B[0m\u001B[1;31m:\u001B[0m expected an indented block\n"
     ]
    }
   ],
   "execution_count": 1
  },
  {
   "metadata": {
    "ExecuteTime": {
     "end_time": "2024-12-27T14:40:49.593605Z",
     "start_time": "2024-12-27T14:40:49.577981Z"
    }
   },
   "cell_type": "code",
   "source": [
    "from PIL import Image\n",
    "\n",
    "# 假设 img_path 是你的图片路径\n",
    "img_path = \"D:\\\\PyCharm\\\\algorithm\\\\learn_torch\\\\dataset\\\\train\\\\ants\\\\0013035.jpg\"\n",
    "with Image.open(img_path) as img:\n",
    "    # 查看图像的一些基本属性\n",
    "    print(f\"格式: {img.format}\")      # 图片格式（例如 JPEG, PNG 等）\n",
    "    print(f\"大小: {img.size}\")        # 图片尺寸 (宽度, 高度)\n",
    "    print(f\"模式: {img.mode}\")        # 图片色彩模式 (例如 RGB, L 等)\n",
    "    print(f\"是否动画: {getattr(img, 'is_animated', False)}\")  # 是否为动画图（如GIF）\n",
    "    print(f\"帧数: {getattr(img, 'n_frames', 1)}\")              # 动画帧数\n"
   ],
   "id": "d93e19b0b38e9506",
   "outputs": [
    {
     "name": "stdout",
     "output_type": "stream",
     "text": [
      "格式: JPEG\n",
      "大小: (768, 512)\n",
      "模式: RGB\n",
      "是否动画: False\n",
      "帧数: 1\n"
     ]
    }
   ],
   "execution_count": 4
  },
  {
   "metadata": {
    "ExecuteTime": {
     "end_time": "2024-12-27T14:41:08.490647Z",
     "start_time": "2024-12-27T14:41:08.460687Z"
    }
   },
   "cell_type": "code",
   "source": "img.size",
   "id": "315c9c2fe27d3401",
   "outputs": [
    {
     "data": {
      "text/plain": [
       "(768, 512)"
      ]
     },
     "execution_count": 5,
     "metadata": {},
     "output_type": "execute_result"
    }
   ],
   "execution_count": 5
  },
  {
   "metadata": {
    "ExecuteTime": {
     "end_time": "2024-12-29T15:31:37.715346Z",
     "start_time": "2024-12-29T15:31:37.526399Z"
    }
   },
   "cell_type": "code",
   "source": " img_path_list",
   "id": "234a6f7ab15cb323",
   "outputs": [
    {
     "ename": "NameError",
     "evalue": "name 'img_path_list' is not defined",
     "output_type": "error",
     "traceback": [
      "\u001B[1;31m---------------------------------------------------------------------------\u001B[0m",
      "\u001B[1;31mNameError\u001B[0m                                 Traceback (most recent call last)",
      "Cell \u001B[1;32mIn[1], line 1\u001B[0m\n\u001B[1;32m----> 1\u001B[0m \u001B[43mimg_path_list\u001B[49m\n",
      "\u001B[1;31mNameError\u001B[0m: name 'img_path_list' is not defined"
     ]
    }
   ],
   "execution_count": 1
  },
  {
   "metadata": {},
   "cell_type": "code",
   "outputs": [],
   "execution_count": null,
   "source": "",
   "id": "c16e7e84353a13bb"
  }
 ],
 "metadata": {
  "kernelspec": {
   "display_name": "Python 3",
   "language": "python",
   "name": "python3"
  },
  "language_info": {
   "codemirror_mode": {
    "name": "ipython",
    "version": 2
   },
   "file_extension": ".py",
   "mimetype": "text/x-python",
   "name": "python",
   "nbconvert_exporter": "python",
   "pygments_lexer": "ipython2",
   "version": "2.7.6"
  }
 },
 "nbformat": 4,
 "nbformat_minor": 5
}
